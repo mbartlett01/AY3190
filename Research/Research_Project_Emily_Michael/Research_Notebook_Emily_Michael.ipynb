{
 "cells": [
  {
   "cell_type": "markdown",
   "id": "2d85eaef",
   "metadata": {},
   "source": [
    "# Emily and Michael's Research Notebook"
   ]
  },
  {
   "cell_type": "markdown",
   "id": "8457e363",
   "metadata": {},
   "source": [
    "## Add list of citations\n",
    "https://ui.adsabs.harvard.edu/abs/2010ApJ...716....1B/abstract"
   ]
  },
  {
   "cell_type": "markdown",
   "id": "18db5beb",
   "metadata": {},
   "source": [
    "\n"
   ]
  }
 ],
 "metadata": {
  "kernelspec": {
   "display_name": "Python 3 (ipykernel)",
   "language": "python",
   "name": "python3"
  },
  "language_info": {
   "codemirror_mode": {
    "name": "ipython",
    "version": 3
   },
   "file_extension": ".py",
   "mimetype": "text/x-python",
   "name": "python",
   "nbconvert_exporter": "python",
   "pygments_lexer": "ipython3",
   "version": "3.9.2"
  }
 },
 "nbformat": 4,
 "nbformat_minor": 5
}
