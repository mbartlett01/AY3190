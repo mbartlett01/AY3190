{
 "cells": [
  {
   "cell_type": "markdown",
   "id": "ef0d0de0",
   "metadata": {},
   "source": [
    "# Emily and Michael's Research Notebook"
   ]
  },
  {
   "cell_type": "markdown",
   "id": "3df1e3b0",
   "metadata": {},
   "source": [
    "## Add list of citations\n",
    "https://ui.adsabs.harvard.edu/abs/2010ApJ...716....1B/abstract\n",
    "\n",
    "https://iopscience.iop.org/article/10.1086/589678/pdf\n",
    "\n",
    "https://ui.adsabs.harvard.edu/abs/2008ApJ...673..864J/abstract"
   ]
  },
  {
   "cell_type": "markdown",
   "id": "562eae9b",
   "metadata": {},
   "source": [
    "## Import necessary packages\n"
   ]
  },
  {
   "cell_type": "code",
   "execution_count": 43,
   "id": "afffd988",
   "metadata": {},
   "outputs": [],
   "source": [
    "import numpy as np\n",
    "from astropy.io import ascii\n",
    "import matplotlib.pyplot as plt\n",
    "\n",
    "#This line is key if you want your plots to show up in the Jupyter notebook!\n",
    "%matplotlib inline"
   ]
  },
  {
   "cell_type": "markdown",
   "id": "97535dbb",
   "metadata": {},
   "source": [
    "## Import the data file"
   ]
  },
  {
   "cell_type": "code",
   "execution_count": 44,
   "id": "82356376",
   "metadata": {},
   "outputs": [],
   "source": [
    "data = ascii.read('./data.dat')"
   ]
  },
  {
   "cell_type": "code",
   "execution_count": 45,
   "id": "c8558413",
   "metadata": {},
   "outputs": [
    {
     "data": {
      "text/html": [
       "<div><i>Table length=576801</i>\n",
       "<table id=\"table1567682484592\" class=\"table-striped table-bordered table-condensed\">\n",
       "<thead><tr><th>ra</th><th>dec</th><th>run</th><th>Ar</th><th>u</th><th>g</th><th>r</th><th>i</th><th>z</th><th>uErr</th><th>gErr</th><th>rErr</th><th>iErr</th><th>zErr</th><th>pmL</th><th>pmB</th><th>pmErr</th></tr></thead>\n",
       "<thead><tr><th>float64</th><th>float64</th><th>int32</th><th>float64</th><th>float64</th><th>float64</th><th>float64</th><th>float64</th><th>float64</th><th>float64</th><th>float64</th><th>float64</th><th>float64</th><th>float64</th><th>float64</th><th>float64</th><th>float64</th></tr></thead>\n",
       "<tr><td>181.6122</td><td>27.5726</td><td>5087</td><td>0.05</td><td>16.4</td><td>15.24</td><td>14.8</td><td>14.73</td><td>14.69</td><td>0.02</td><td>0.02</td><td>0.02</td><td>0.02</td><td>0.01</td><td>5.16</td><td>-1.45</td><td>2.72</td></tr>\n",
       "<tr><td>181.61303</td><td>27.6077</td><td>5087</td><td>0.05</td><td>21.84</td><td>19.55</td><td>18.4</td><td>18.04</td><td>17.79</td><td>0.18</td><td>0.02</td><td>0.02</td><td>0.02</td><td>0.02</td><td>5.48</td><td>4.73</td><td>3.16</td></tr>\n",
       "<tr><td>181.61416</td><td>27.35956</td><td>5112</td><td>0.05</td><td>19.76</td><td>17.56</td><td>16.61</td><td>16.23</td><td>16.07</td><td>0.03</td><td>0.01</td><td>0.02</td><td>0.03</td><td>0.03</td><td>3.14</td><td>7.92</td><td>2.79</td></tr>\n",
       "<tr><td>181.6164</td><td>27.82464</td><td>5112</td><td>0.06</td><td>21.73</td><td>20.63</td><td>20.19</td><td>19.99</td><td>20.04</td><td>0.16</td><td>0.03</td><td>0.03</td><td>0.03</td><td>0.13</td><td>19.13</td><td>-1.08</td><td>5.08</td></tr>\n",
       "<tr><td>181.62112</td><td>28.01623</td><td>5087</td><td>0.05</td><td>21.37</td><td>20.38</td><td>20.11</td><td>20.05</td><td>19.87</td><td>0.11</td><td>0.04</td><td>0.03</td><td>0.03</td><td>0.09</td><td>-3.65</td><td>-8.0</td><td>4.91</td></tr>\n",
       "<tr><td>181.62252</td><td>27.63987</td><td>5087</td><td>0.05</td><td>17.34</td><td>15.58</td><td>14.82</td><td>14.64</td><td>14.51</td><td>0.02</td><td>0.02</td><td>0.02</td><td>0.02</td><td>0.01</td><td>9.74</td><td>-10.64</td><td>2.72</td></tr>\n",
       "<tr><td>181.62469</td><td>27.32682</td><td>5112</td><td>0.05</td><td>21.63</td><td>20.52</td><td>20.21</td><td>20.1</td><td>19.91</td><td>0.13</td><td>0.02</td><td>0.03</td><td>0.04</td><td>1.07</td><td>6.73</td><td>-25.39</td><td>5.13</td></tr>\n",
       "<tr><td>181.62582</td><td>27.42162</td><td>5112</td><td>0.05</td><td>23.16</td><td>21.09</td><td>19.67</td><td>19.04</td><td>18.66</td><td>0.46</td><td>0.03</td><td>0.02</td><td>0.03</td><td>0.04</td><td>35.17</td><td>7.8</td><td>4.18</td></tr>\n",
       "<tr><td>181.63178</td><td>26.93836</td><td>5112</td><td>0.05</td><td>18.57</td><td>15.96</td><td>14.77</td><td>14.25</td><td>13.96</td><td>0.02</td><td>0.02</td><td>0.02</td><td>0.02</td><td>0.02</td><td>15.96</td><td>-8.01</td><td>2.72</td></tr>\n",
       "<tr><td>181.63364</td><td>27.24131</td><td>5087</td><td>0.06</td><td>20.9</td><td>18.78</td><td>17.8</td><td>17.38</td><td>17.06</td><td>0.08</td><td>0.03</td><td>0.02</td><td>0.02</td><td>0.02</td><td>2.03</td><td>-5.43</td><td>2.96</td></tr>\n",
       "<tr><td>...</td><td>...</td><td>...</td><td>...</td><td>...</td><td>...</td><td>...</td><td>...</td><td>...</td><td>...</td><td>...</td><td>...</td><td>...</td><td>...</td><td>...</td><td>...</td><td>...</td></tr>\n",
       "<tr><td>204.07163</td><td>28.33239</td><td>4649</td><td>0.04</td><td>25.37</td><td>22.19</td><td>20.9</td><td>20.12</td><td>19.66</td><td>0.9</td><td>0.09</td><td>0.04</td><td>0.03</td><td>0.08</td><td>999.99</td><td>999.99</td><td>999.99</td></tr>\n",
       "<tr><td>204.0717</td><td>27.9709</td><td>4649</td><td>0.04</td><td>23.69</td><td>22.27</td><td>20.99</td><td>19.79</td><td>18.99</td><td>1.08</td><td>0.11</td><td>0.05</td><td>0.03</td><td>0.05</td><td>999.99</td><td>999.99</td><td>999.99</td></tr>\n",
       "<tr><td>204.07202</td><td>26.99902</td><td>5115</td><td>0.04</td><td>22.49</td><td>20.48</td><td>19.0</td><td>18.08</td><td>17.53</td><td>0.27</td><td>0.03</td><td>0.02</td><td>0.02</td><td>0.03</td><td>999.99</td><td>999.99</td><td>999.99</td></tr>\n",
       "<tr><td>204.07942</td><td>27.83253</td><td>4649</td><td>0.04</td><td>22.48</td><td>19.9</td><td>18.54</td><td>17.32</td><td>16.59</td><td>0.43</td><td>0.03</td><td>0.01</td><td>0.02</td><td>0.02</td><td>999.99</td><td>999.99</td><td>999.99</td></tr>\n",
       "<tr><td>204.08073</td><td>27.6204</td><td>4646</td><td>0.04</td><td>22.78</td><td>20.64</td><td>19.22</td><td>18.4</td><td>17.96</td><td>0.45</td><td>0.04</td><td>0.02</td><td>0.02</td><td>0.03</td><td>999.99</td><td>999.99</td><td>999.99</td></tr>\n",
       "<tr><td>204.08155</td><td>27.41611</td><td>4649</td><td>0.03</td><td>23.45</td><td>22.23</td><td>20.88</td><td>19.58</td><td>18.86</td><td>0.8</td><td>0.13</td><td>0.04</td><td>0.03</td><td>0.04</td><td>999.99</td><td>999.99</td><td>999.99</td></tr>\n",
       "<tr><td>204.09136</td><td>27.57915</td><td>4646</td><td>0.03</td><td>23.05</td><td>22.22</td><td>20.67</td><td>19.51</td><td>18.98</td><td>0.58</td><td>0.12</td><td>0.04</td><td>0.03</td><td>0.05</td><td>999.99</td><td>999.99</td><td>999.99</td></tr>\n",
       "<tr><td>204.09455</td><td>27.85823</td><td>4649</td><td>0.04</td><td>23.63</td><td>20.6</td><td>19.12</td><td>17.7</td><td>16.87</td><td>1.06</td><td>0.04</td><td>0.02</td><td>0.02</td><td>0.02</td><td>999.99</td><td>999.99</td><td>999.99</td></tr>\n",
       "<tr><td>204.09851</td><td>28.014</td><td>4646</td><td>0.03</td><td>22.99</td><td>19.99</td><td>18.6</td><td>17.55</td><td>17.0</td><td>0.57</td><td>0.03</td><td>0.02</td><td>0.02</td><td>0.02</td><td>999.99</td><td>999.99</td><td>999.99</td></tr>\n",
       "<tr><td>204.10122</td><td>27.55673</td><td>4646</td><td>0.03</td><td>24.43</td><td>22.07</td><td>20.62</td><td>19.69</td><td>19.14</td><td>1.21</td><td>0.11</td><td>0.04</td><td>0.03</td><td>0.05</td><td>999.99</td><td>999.99</td><td>999.99</td></tr>\n",
       "</table></div>"
      ],
      "text/plain": [
       "<Table length=576801>\n",
       "    ra      dec     run     Ar      u    ...   zErr    pmL     pmB    pmErr \n",
       " float64  float64  int32 float64 float64 ... float64 float64 float64 float64\n",
       "--------- -------- ----- ------- ------- ... ------- ------- ------- -------\n",
       " 181.6122  27.5726  5087    0.05    16.4 ...    0.01    5.16   -1.45    2.72\n",
       "181.61303  27.6077  5087    0.05   21.84 ...    0.02    5.48    4.73    3.16\n",
       "181.61416 27.35956  5112    0.05   19.76 ...    0.03    3.14    7.92    2.79\n",
       " 181.6164 27.82464  5112    0.06   21.73 ...    0.13   19.13   -1.08    5.08\n",
       "181.62112 28.01623  5087    0.05   21.37 ...    0.09   -3.65    -8.0    4.91\n",
       "181.62252 27.63987  5087    0.05   17.34 ...    0.01    9.74  -10.64    2.72\n",
       "181.62469 27.32682  5112    0.05   21.63 ...    1.07    6.73  -25.39    5.13\n",
       "181.62582 27.42162  5112    0.05   23.16 ...    0.04   35.17     7.8    4.18\n",
       "181.63178 26.93836  5112    0.05   18.57 ...    0.02   15.96   -8.01    2.72\n",
       "181.63364 27.24131  5087    0.06    20.9 ...    0.02    2.03   -5.43    2.96\n",
       "      ...      ...   ...     ...     ... ...     ...     ...     ...     ...\n",
       "204.07163 28.33239  4649    0.04   25.37 ...    0.08  999.99  999.99  999.99\n",
       " 204.0717  27.9709  4649    0.04   23.69 ...    0.05  999.99  999.99  999.99\n",
       "204.07202 26.99902  5115    0.04   22.49 ...    0.03  999.99  999.99  999.99\n",
       "204.07942 27.83253  4649    0.04   22.48 ...    0.02  999.99  999.99  999.99\n",
       "204.08073  27.6204  4646    0.04   22.78 ...    0.03  999.99  999.99  999.99\n",
       "204.08155 27.41611  4649    0.03   23.45 ...    0.04  999.99  999.99  999.99\n",
       "204.09136 27.57915  4646    0.03   23.05 ...    0.05  999.99  999.99  999.99\n",
       "204.09455 27.85823  4649    0.04   23.63 ...    0.02  999.99  999.99  999.99\n",
       "204.09851   28.014  4646    0.03   22.99 ...    0.02  999.99  999.99  999.99\n",
       "204.10122 27.55673  4646    0.03   24.43 ...    0.05  999.99  999.99  999.99"
      ]
     },
     "execution_count": 45,
     "metadata": {},
     "output_type": "execute_result"
    }
   ],
   "source": [
    "data"
   ]
  },
  {
   "cell_type": "code",
   "execution_count": 50,
   "id": "d8479783",
   "metadata": {},
   "outputs": [
    {
     "name": "stdout",
     "output_type": "stream",
     "text": [
      "g-r: [0.44 1.15 0.95 0.44 0.27 0.76 0.31 1.42 1.19 0.98]\n",
      "metallicity: [-0.8191296  -0.6        -0.6        -1.0249488  -1.06648793 -0.6\n",
      " -0.57584997 -0.6        -0.6        -0.6       ]\n"
     ]
    }
   ],
   "source": [
    "g_minus_r = np.array(data['g'] - data['r'])\n",
    "u_minus_g = np.array(data['u'] - data['g'])\n",
    "\n",
    "def calc_metallicity(x, y):\n",
    "    '''\n",
    "    Calculate the metallicity of an array of stars\n",
    "    \n",
    "    x - The u-g value of the star as an array\n",
    "    y - The g-r value of the stars as an array\n",
    "    return - An array of metallicities\n",
    "    '''\n",
    "    \n",
    "    #Calculate the masks\n",
    "    result = np.zeros(len(y));\n",
    "    mask = y < 0.6;\n",
    "    \n",
    "    #Update the values that are less than 0.6\n",
    "    A = [-13.13, 14.09, 28.04, -5.51, -5.90, -58.68, 9.14, -20.61, 0.0, 58.20]\n",
    "    result[mask] = A[0] + A[1]*x[mask] + A[2]*y[mask] + A[3]*x[mask]*y[mask] + A[4]*x[mask]**2 + A[5]*y[mask]**2 + A[6]*(x[mask]**2)*y[mask] + A[7]*x[mask]*y[mask]**2 + A[8]*x[mask]**3 + A[9]*y[mask]**3\n",
    "        \n",
    "    #Set all values greater than 0.6 to -0.6\n",
    "    result[np.invert(mask)] = -0.6\n",
    "    \n",
    "    #Return the final value\n",
    "    return result\n",
    "\n",
    "metallicity = calc_metallicity(u_minus_g, g_minus_r)\n",
    "print(\"g-r:\", g_minus_r[:10])\n",
    "print(\"metallicity:\", metallicity[:10])"
   ]
  },
  {
   "cell_type": "code",
   "execution_count": 51,
   "id": "8664b74a",
   "metadata": {},
   "outputs": [
    {
     "name": "stdout",
     "output_type": "stream",
     "text": [
      "[-5.69041125 -2.99973111 -3.29952371 -5.25737268 -7.02072019 -4.01336671\n",
      " -5.99817063 -1.93204966 -2.63924016 -3.18439139]\n"
     ]
    }
   ],
   "source": [
    "#Define functions to calculate Mr\n",
    "def calc_delta_Mr(metallicity):\n",
    "    return 4.50 - 1.11*metallicity - 0.18*metallicity**2\n",
    "    \n",
    "def calc_Mr0(g_minus_i):\n",
    "    return -5.06 + 14.32*g_minus_i - 12.97*g_minus_i**2 + 6.127*g_minus_i**3 - 1.297*g_minus_i**4 + 0.0967*g_minus_i**5\n",
    "    \n",
    "def calc_Mr(g_minus_i, metallicity):\n",
    "    '''\n",
    "    Calculate the absolute magnitude of a list of stars\n",
    "    \n",
    "    g_minus_i - The g - r values of the stars as an array\n",
    "    metallicity - The metallicity of the stars as an array\n",
    "    return - The absolute magnitude in the r band as an array\n",
    "    '''\n",
    "    \n",
    "    return Mr0(g_minus_i) - delta_Mr(metallicity)\n",
    "\n",
    "g_minus_i = np.array(data['g'] - data['i'])\n",
    "Mr = calc_Mr(g_minus_i, metallicity)\n",
    "print(Mr[:10])"
   ]
  },
  {
   "cell_type": "code",
   "execution_count": 48,
   "id": "55b81586",
   "metadata": {},
   "outputs": [
    {
     "name": "stdout",
     "output_type": "stream",
     "text": [
      "        r         \n",
      "------------------\n",
      "125337.85254061809\n",
      "190522.47823420833\n",
      "  95919.0218263608\n",
      "1228781.1375409649\n",
      " 2667743.299112532\n",
      " 58435.03961935261\n",
      "1744351.9937198407\n",
      "209126.91527997964\n",
      "  30328.2975453213\n",
      "157354.17792704195\n"
     ]
    }
   ],
   "source": [
    "#Find the distance to the star in Parsec\n",
    "def calc_distance(r, Mr):\n",
    "    '''\n",
    "    Calculate the distance to stars in parsecs\n",
    "    \n",
    "    r - The r-band visual magnitude of the stars as an array\n",
    "    Mr - The r-band absolute magnitude of the stars as an array\n",
    "    return - The distances to the stars in parsecs as an array\n",
    "    '''\n",
    "    return 10**((r - Mr)/5 + 1)\n",
    "\n",
    "distances = calc_distance(data['r'], Mr)\n",
    "print(distances[:10])"
   ]
  },
  {
   "cell_type": "code",
   "execution_count": null,
   "id": "e1aebab3",
   "metadata": {},
   "outputs": [],
   "source": []
  }
 ],
 "metadata": {
  "kernelspec": {
   "display_name": "Python 3 (ipykernel)",
   "language": "python",
   "name": "python3"
  },
  "language_info": {
   "codemirror_mode": {
    "name": "ipython",
    "version": 3
   },
   "file_extension": ".py",
   "mimetype": "text/x-python",
   "name": "python",
   "nbconvert_exporter": "python",
   "pygments_lexer": "ipython3",
   "version": "3.9.2"
  }
 },
 "nbformat": 4,
 "nbformat_minor": 5
}
