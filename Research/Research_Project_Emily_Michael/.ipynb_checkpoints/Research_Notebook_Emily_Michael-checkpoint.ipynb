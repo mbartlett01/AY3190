{
 "cells": [
  {
   "cell_type": "markdown",
   "id": "ef0d0de0",
   "metadata": {},
   "source": [
    "# Emily and Michael's Research Notebook"
   ]
  },
  {
   "cell_type": "markdown",
   "id": "3df1e3b0",
   "metadata": {},
   "source": [
    "## Add list of citations\n",
    "https://ui.adsabs.harvard.edu/abs/2010ApJ...716....1B/abstract\n",
    "https://iopscience.iop.org/article/10.1086/589678/pdf"
   ]
  },
  {
   "cell_type": "markdown",
   "id": "562eae9b",
   "metadata": {},
   "source": [
    "\n"
   ]
  }
 ],
 "metadata": {
  "kernelspec": {
   "display_name": "Python 3 (ipykernel)",
   "language": "python",
   "name": "python3"
  },
  "language_info": {
   "codemirror_mode": {
    "name": "ipython",
    "version": 3
   },
   "file_extension": ".py",
   "mimetype": "text/x-python",
   "name": "python",
   "nbconvert_exporter": "python",
   "pygments_lexer": "ipython3",
   "version": "3.9.2"
  }
 },
 "nbformat": 4,
 "nbformat_minor": 5
}
